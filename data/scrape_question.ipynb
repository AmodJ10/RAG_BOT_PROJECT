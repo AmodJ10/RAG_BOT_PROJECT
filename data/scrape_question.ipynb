{
 "cells": [
  {
   "cell_type": "code",
   "execution_count": 2,
   "metadata": {},
   "outputs": [],
   "source": [
    "import g4f\n",
    "import csv\n",
    "import re\n",
    "import os\n",
    "# import csv"
   ]
  },
  {
   "cell_type": "code",
   "execution_count": 3,
   "metadata": {},
   "outputs": [
    {
     "name": "stdout",
     "output_type": "stream",
     "text": [
      "Questions have been written to business_questions.csv\n",
      "Questions have been written to business_questions.csv\n",
      "Questions have been written to business_questions.csv\n",
      "Questions have been written to business_questions.csv\n",
      "Questions have been written to business_questions.csv\n"
     ]
    },
    {
     "ename": "WSServerHandshakeError",
     "evalue": "502, message='Invalid response status', url=URL('wss://sydney.bing.com/sydney/ChatHub?sec_access_token=rcRf6kGRDBdUC9hiTefX2NwvNBqrx0v%2B991mRuE%2BfuIunutXhsYgLVKU%2BXRn/S3kgXNIC3x0v2Ng8PcAuy2HNFU65YGFDkb9z7vZ8c5XnlU1cP8n/hHrLMHXN1H7so3Q%2B0mg%2BB1EtMFMpbOUF0KH//RIOfkIerC0OasivVi9rMeXQZ14XOqO2/JhHkrmJA/MdCtsA6uUpJ5obxIzt7PZ9rgqVS/DNxuARDX14o2vA4jXv3AdrkBccSJt1BhMX//pJeHoU/VH41Rb9zxESEWVvOtIkC6pJlvSYgpxgDIT2f5acdl7SkPgpvKUFRbkD7jShOnBCZE%2BQRBjuQQ/9Qw2Sz1J5O6IpnGTdNwCBA2Xug/4iGRSK0Yiooo32kR7G%2BmIHQamGxLAcWzb%2By8wtfGnxw2NBOPUoT%2Bjz8w1CQsSb5Jp9c1MT7KG7X/ZzCTFoSZ/qVxCp9SluqXJmmfqfQNlk121UAhmL9ZB4t5zt58ZDplaqzgOUZc70Fh1YxUsGPTeKH5j6c2sJdMr2w1h/lwomPDC2wm/1e7niFYy5tZp0Wl4CD1P35HNRw29CoExNpPgESj%2BLU/NoRKjpd3c4Xecmlq2XCilwJiPH2Cfm4zVeu0QZURnDWMQoUcR/3JESiiw2wMVTKYRsp3yXmXuEMzXnpln2VZRNwG9jsBvTwhOad2EhvYDy9EvxBw/VI362r5cvRvbuFVcwJcjDUf3xg0wT8aKso3tkUtaoeaj6MJBf3/HkjcPwrJ50lBMqhRQKsATZexqv/57P9YJEXFmlPXHhfe0A0ekQ0SkTZ/pGRPvLi0Bj3ST32S6q8Dgti1uEOCRKfPS02bHV5KrBsXSvhPGikQSJN8TTI54R%2B1et5Csu7EbMJF%2B/Xvqm56MnNtkqe3TcAYRw/BtV5u0Er5hACb1B%2BPoTwdaWIkC/jYTcu89CLEokdrPTY1Kgw3Ynw4%2BR9dyMoT5xUiU6nmuAJHBmBz5qmLf1su0G45ltc1y7NwypoKRd%2B%2BZxH1toW3n5jjUpT5k1FRx2A4X0J9jAlsR/BI97r5J33jk3DFd7VGUVHTIURYLmmiv%2Bwn7EoxYoHCgYPgEwhuiqe5x/ULA0i0jp3rKtpJs46/6Wbgfn7bo4WAnydcWhy5EbnpxxBTFe29DJtqixt6ZCocF9hXRtdHJBIWSgw%3D%3D')",
     "output_type": "error",
     "traceback": [
      "\u001b[1;31m---------------------------------------------------------------------------\u001b[0m",
      "\u001b[1;31mWSServerHandshakeError\u001b[0m                    Traceback (most recent call last)",
      "Cell \u001b[1;32mIn[3], line 15\u001b[0m\n\u001b[0;32m      7\u001b[0m  \u001b[39m# Set with provider\u001b[39;00m\n\u001b[0;32m      8\u001b[0m  response \u001b[39m=\u001b[39m g4f\u001b[39m.\u001b[39mChatCompletion\u001b[39m.\u001b[39mcreate(\n\u001b[0;32m      9\u001b[0m      model\u001b[39m=\u001b[39m\u001b[39m\"\u001b[39m\u001b[39mgpt-3.5-turbo\u001b[39m\u001b[39m\"\u001b[39m,\n\u001b[0;32m     10\u001b[0m      provider\u001b[39m=\u001b[39mg4f\u001b[39m.\u001b[39mProvider\u001b[39m.\u001b[39mBing,\n\u001b[0;32m     11\u001b[0m      messages\u001b[39m=\u001b[39m[{\u001b[39m\"\u001b[39m\u001b[39mrole\u001b[39m\u001b[39m\"\u001b[39m: \u001b[39m\"\u001b[39m\u001b[39muser\u001b[39m\u001b[39m\"\u001b[39m, \u001b[39m\"\u001b[39m\u001b[39mcontent\u001b[39m\u001b[39m\"\u001b[39m: \u001b[39m\"\u001b[39m\u001b[39mGive me 20 business related question \u001b[39m\u001b[39m\"\u001b[39m}],\n\u001b[0;32m     12\u001b[0m      stream\u001b[39m=\u001b[39m\u001b[39mTrue\u001b[39;00m,\n\u001b[0;32m     13\u001b[0m  )\n\u001b[1;32m---> 15\u001b[0m  string \u001b[39m=\u001b[39m \u001b[39m\"\u001b[39;49m\u001b[39m\"\u001b[39;49m\u001b[39m.\u001b[39;49mjoin(\u001b[39mmap\u001b[39;49m(\u001b[39mstr\u001b[39;49m,response))\n\u001b[0;32m     17\u001b[0m  text \u001b[39m=\u001b[39m string\n\u001b[0;32m     19\u001b[0m \u001b[39m# Use regular expression to extract questions\u001b[39;00m\n",
      "File \u001b[1;32mc:\\Users\\amodj\\AppData\\Local\\Programs\\Python\\Python311\\Lib\\site-packages\\g4f\\Provider\\base_provider.py:143\u001b[0m, in \u001b[0;36mAsyncGeneratorProvider.create_completion\u001b[1;34m(cls, model, messages, stream, **kwargs)\u001b[0m\n\u001b[0;32m    141\u001b[0m \u001b[39mwhile\u001b[39;00m \u001b[39mTrue\u001b[39;00m:\n\u001b[0;32m    142\u001b[0m     \u001b[39mtry\u001b[39;00m:\n\u001b[1;32m--> 143\u001b[0m         \u001b[39myield\u001b[39;00m loop\u001b[39m.\u001b[39;49mrun_until_complete(gen\u001b[39m.\u001b[39;49m\u001b[39m__anext__\u001b[39;49m())\n\u001b[0;32m    144\u001b[0m     \u001b[39mexcept\u001b[39;00m \u001b[39mStopAsyncIteration\u001b[39;00m:\n\u001b[0;32m    145\u001b[0m         \u001b[39mbreak\u001b[39;00m\n",
      "File \u001b[1;32mc:\\Users\\amodj\\AppData\\Local\\Programs\\Python\\Python311\\Lib\\site-packages\\nest_asyncio.py:90\u001b[0m, in \u001b[0;36m_patch_loop.<locals>.run_until_complete\u001b[1;34m(self, future)\u001b[0m\n\u001b[0;32m     87\u001b[0m \u001b[39mif\u001b[39;00m \u001b[39mnot\u001b[39;00m f\u001b[39m.\u001b[39mdone():\n\u001b[0;32m     88\u001b[0m     \u001b[39mraise\u001b[39;00m \u001b[39mRuntimeError\u001b[39;00m(\n\u001b[0;32m     89\u001b[0m         \u001b[39m'\u001b[39m\u001b[39mEvent loop stopped before Future completed.\u001b[39m\u001b[39m'\u001b[39m)\n\u001b[1;32m---> 90\u001b[0m \u001b[39mreturn\u001b[39;00m f\u001b[39m.\u001b[39;49mresult()\n",
      "File \u001b[1;32mc:\\Users\\amodj\\AppData\\Local\\Programs\\Python\\Python311\\Lib\\asyncio\\futures.py:203\u001b[0m, in \u001b[0;36mFuture.result\u001b[1;34m(self)\u001b[0m\n\u001b[0;32m    201\u001b[0m \u001b[39mself\u001b[39m\u001b[39m.\u001b[39m__log_traceback \u001b[39m=\u001b[39m \u001b[39mFalse\u001b[39;00m\n\u001b[0;32m    202\u001b[0m \u001b[39mif\u001b[39;00m \u001b[39mself\u001b[39m\u001b[39m.\u001b[39m_exception \u001b[39mis\u001b[39;00m \u001b[39mnot\u001b[39;00m \u001b[39mNone\u001b[39;00m:\n\u001b[1;32m--> 203\u001b[0m     \u001b[39mraise\u001b[39;00m \u001b[39mself\u001b[39m\u001b[39m.\u001b[39m_exception\u001b[39m.\u001b[39mwith_traceback(\u001b[39mself\u001b[39m\u001b[39m.\u001b[39m_exception_tb)\n\u001b[0;32m    204\u001b[0m \u001b[39mreturn\u001b[39;00m \u001b[39mself\u001b[39m\u001b[39m.\u001b[39m_result\n",
      "File \u001b[1;32mc:\\Users\\amodj\\AppData\\Local\\Programs\\Python\\Python311\\Lib\\asyncio\\tasks.py:267\u001b[0m, in \u001b[0;36mTask.__step\u001b[1;34m(***failed resolving arguments***)\u001b[0m\n\u001b[0;32m    263\u001b[0m \u001b[39mtry\u001b[39;00m:\n\u001b[0;32m    264\u001b[0m     \u001b[39mif\u001b[39;00m exc \u001b[39mis\u001b[39;00m \u001b[39mNone\u001b[39;00m:\n\u001b[0;32m    265\u001b[0m         \u001b[39m# We use the `send` method directly, because coroutines\u001b[39;00m\n\u001b[0;32m    266\u001b[0m         \u001b[39m# don't have `__iter__` and `__next__` methods.\u001b[39;00m\n\u001b[1;32m--> 267\u001b[0m         result \u001b[39m=\u001b[39m coro\u001b[39m.\u001b[39msend(\u001b[39mNone\u001b[39;00m)\n\u001b[0;32m    268\u001b[0m     \u001b[39melse\u001b[39;00m:\n\u001b[0;32m    269\u001b[0m         result \u001b[39m=\u001b[39m coro\u001b[39m.\u001b[39mthrow(exc)\n",
      "File \u001b[1;32mc:\\Users\\amodj\\AppData\\Local\\Programs\\Python\\Python311\\Lib\\site-packages\\g4f\\Provider\\Bing.py:444\u001b[0m, in \u001b[0;36mstream_generate\u001b[1;34m(prompt, tone, image, context, proxy, cookies)\u001b[0m\n\u001b[0;32m    442\u001b[0m conversation \u001b[39m=\u001b[39m \u001b[39mawait\u001b[39;00m create_conversation(session, tone, image, proxy)\n\u001b[0;32m    443\u001b[0m \u001b[39mtry\u001b[39;00m:\n\u001b[1;32m--> 444\u001b[0m     \u001b[39masync\u001b[39;00m \u001b[39mwith\u001b[39;00m session\u001b[39m.\u001b[39mws_connect(\u001b[39m'\u001b[39m\u001b[39mwss://sydney.bing.com/sydney/ChatHub\u001b[39m\u001b[39m'\u001b[39m, autoping\u001b[39m=\u001b[39m\u001b[39mFalse\u001b[39;00m, params\u001b[39m=\u001b[39m{\u001b[39m'\u001b[39m\u001b[39msec_access_token\u001b[39m\u001b[39m'\u001b[39m: conversation\u001b[39m.\u001b[39mconversationSignature}, proxy\u001b[39m=\u001b[39mproxy) \u001b[39mas\u001b[39;00m wss:\n\u001b[0;32m    446\u001b[0m         \u001b[39mawait\u001b[39;00m wss\u001b[39m.\u001b[39msend_str(format_message({\u001b[39m'\u001b[39m\u001b[39mprotocol\u001b[39m\u001b[39m'\u001b[39m: \u001b[39m'\u001b[39m\u001b[39mjson\u001b[39m\u001b[39m'\u001b[39m, \u001b[39m'\u001b[39m\u001b[39mversion\u001b[39m\u001b[39m'\u001b[39m: \u001b[39m1\u001b[39m}))\n\u001b[0;32m    447\u001b[0m         \u001b[39mawait\u001b[39;00m wss\u001b[39m.\u001b[39mreceive(timeout\u001b[39m=\u001b[39m\u001b[39m900\u001b[39m)\n",
      "File \u001b[1;32mc:\\Users\\amodj\\AppData\\Local\\Programs\\Python\\Python311\\Lib\\site-packages\\aiohttp\\client.py:1187\u001b[0m, in \u001b[0;36m_BaseRequestContextManager.__aenter__\u001b[1;34m(self)\u001b[0m\n\u001b[0;32m   1186\u001b[0m \u001b[39masync\u001b[39;00m \u001b[39mdef\u001b[39;00m \u001b[39m__aenter__\u001b[39m(\u001b[39mself\u001b[39m) \u001b[39m-\u001b[39m\u001b[39m>\u001b[39m _RetType:\n\u001b[1;32m-> 1187\u001b[0m     \u001b[39mself\u001b[39m\u001b[39m.\u001b[39m_resp \u001b[39m=\u001b[39m \u001b[39mawait\u001b[39;00m \u001b[39mself\u001b[39m\u001b[39m.\u001b[39m_coro\n\u001b[0;32m   1188\u001b[0m     \u001b[39mreturn\u001b[39;00m \u001b[39mself\u001b[39m\u001b[39m.\u001b[39m_resp\n",
      "File \u001b[1;32mc:\\Users\\amodj\\AppData\\Local\\Programs\\Python\\Python311\\Lib\\site-packages\\aiohttp\\client.py:841\u001b[0m, in \u001b[0;36mClientSession._ws_connect\u001b[1;34m(self, url, method, protocols, timeout, receive_timeout, autoclose, autoping, heartbeat, auth, origin, params, headers, proxy, proxy_auth, ssl, verify_ssl, fingerprint, ssl_context, proxy_headers, compress, max_msg_size)\u001b[0m\n\u001b[0;32m    838\u001b[0m \u001b[39mtry\u001b[39;00m:\n\u001b[0;32m    839\u001b[0m     \u001b[39m# check handshake\u001b[39;00m\n\u001b[0;32m    840\u001b[0m     \u001b[39mif\u001b[39;00m resp\u001b[39m.\u001b[39mstatus \u001b[39m!=\u001b[39m \u001b[39m101\u001b[39m:\n\u001b[1;32m--> 841\u001b[0m         \u001b[39mraise\u001b[39;00m WSServerHandshakeError(\n\u001b[0;32m    842\u001b[0m             resp\u001b[39m.\u001b[39mrequest_info,\n\u001b[0;32m    843\u001b[0m             resp\u001b[39m.\u001b[39mhistory,\n\u001b[0;32m    844\u001b[0m             message\u001b[39m=\u001b[39m\u001b[39m\"\u001b[39m\u001b[39mInvalid response status\u001b[39m\u001b[39m\"\u001b[39m,\n\u001b[0;32m    845\u001b[0m             status\u001b[39m=\u001b[39mresp\u001b[39m.\u001b[39mstatus,\n\u001b[0;32m    846\u001b[0m             headers\u001b[39m=\u001b[39mresp\u001b[39m.\u001b[39mheaders,\n\u001b[0;32m    847\u001b[0m         )\n\u001b[0;32m    849\u001b[0m     \u001b[39mif\u001b[39;00m resp\u001b[39m.\u001b[39mheaders\u001b[39m.\u001b[39mget(hdrs\u001b[39m.\u001b[39mUPGRADE, \u001b[39m\"\u001b[39m\u001b[39m\"\u001b[39m)\u001b[39m.\u001b[39mlower() \u001b[39m!=\u001b[39m \u001b[39m\"\u001b[39m\u001b[39mwebsocket\u001b[39m\u001b[39m\"\u001b[39m:\n\u001b[0;32m    850\u001b[0m         \u001b[39mraise\u001b[39;00m WSServerHandshakeError(\n\u001b[0;32m    851\u001b[0m             resp\u001b[39m.\u001b[39mrequest_info,\n\u001b[0;32m    852\u001b[0m             resp\u001b[39m.\u001b[39mhistory,\n\u001b[1;32m   (...)\u001b[0m\n\u001b[0;32m    855\u001b[0m             headers\u001b[39m=\u001b[39mresp\u001b[39m.\u001b[39mheaders,\n\u001b[0;32m    856\u001b[0m         )\n",
      "\u001b[1;31mWSServerHandshakeError\u001b[0m: 502, message='Invalid response status', url=URL('wss://sydney.bing.com/sydney/ChatHub?sec_access_token=rcRf6kGRDBdUC9hiTefX2NwvNBqrx0v%2B991mRuE%2BfuIunutXhsYgLVKU%2BXRn/S3kgXNIC3x0v2Ng8PcAuy2HNFU65YGFDkb9z7vZ8c5XnlU1cP8n/hHrLMHXN1H7so3Q%2B0mg%2BB1EtMFMpbOUF0KH//RIOfkIerC0OasivVi9rMeXQZ14XOqO2/JhHkrmJA/MdCtsA6uUpJ5obxIzt7PZ9rgqVS/DNxuARDX14o2vA4jXv3AdrkBccSJt1BhMX//pJeHoU/VH41Rb9zxESEWVvOtIkC6pJlvSYgpxgDIT2f5acdl7SkPgpvKUFRbkD7jShOnBCZE%2BQRBjuQQ/9Qw2Sz1J5O6IpnGTdNwCBA2Xug/4iGRSK0Yiooo32kR7G%2BmIHQamGxLAcWzb%2By8wtfGnxw2NBOPUoT%2Bjz8w1CQsSb5Jp9c1MT7KG7X/ZzCTFoSZ/qVxCp9SluqXJmmfqfQNlk121UAhmL9ZB4t5zt58ZDplaqzgOUZc70Fh1YxUsGPTeKH5j6c2sJdMr2w1h/lwomPDC2wm/1e7niFYy5tZp0Wl4CD1P35HNRw29CoExNpPgESj%2BLU/NoRKjpd3c4Xecmlq2XCilwJiPH2Cfm4zVeu0QZURnDWMQoUcR/3JESiiw2wMVTKYRsp3yXmXuEMzXnpln2VZRNwG9jsBvTwhOad2EhvYDy9EvxBw/VI362r5cvRvbuFVcwJcjDUf3xg0wT8aKso3tkUtaoeaj6MJBf3/HkjcPwrJ50lBMqhRQKsATZexqv/57P9YJEXFmlPXHhfe0A0ekQ0SkTZ/pGRPvLi0Bj3ST32S6q8Dgti1uEOCRKfPS02bHV5KrBsXSvhPGikQSJN8TTI54R%2B1et5Csu7EbMJF%2B/Xvqm56MnNtkqe3TcAYRw/BtV5u0Er5hACb1B%2BPoTwdaWIkC/jYTcu89CLEokdrPTY1Kgw3Ynw4%2BR9dyMoT5xUiU6nmuAJHBmBz5qmLf1su0G45ltc1y7NwypoKRd%2B%2BZxH1toW3n5jjUpT5k1FRx2A4X0J9jAlsR/BI97r5J33jk3DFd7VGUVHTIURYLmmiv%2Bwn7EoxYoHCgYPgEwhuiqe5x/ULA0i0jp3rKtpJs46/6Wbgfn7bo4WAnydcWhy5EbnpxxBTFe29DJtqixt6ZCocF9hXRtdHJBIWSgw%3D%3D')"
     ]
    }
   ],
   "source": [
    "for i in range(100):\n",
    "    \n",
    "    from g4f.Provider import (  \n",
    "        Bing\n",
    "    )\n",
    "\n",
    "    # Set with provider\n",
    "    response = g4f.ChatCompletion.create(\n",
    "        model=\"gpt-3.5-turbo\",\n",
    "        provider=g4f.Provider.Bing,\n",
    "        messages=[{\"role\": \"user\", \"content\": \"Give me 20 business related question \"}],\n",
    "        stream=True,\n",
    "    )\n",
    "\n",
    "    string = \"\".join(map(str,response))\n",
    "\n",
    "    text = string\n",
    "\n",
    "   # Use regular expression to extract questions\n",
    "    questions = re.findall(r'- (.+?)\\?', text)\n",
    "\n",
    "    csv_file_path = 'business_questions.csv'\n",
    "\n",
    "    # Check if the file exists\n",
    "    file_exists = os.path.isfile(csv_file_path)\n",
    "\n",
    "    # Open the file in append mode if it exists, otherwise create a new file\n",
    "    with open(csv_file_path, 'a' if file_exists else 'w', newline='', encoding='utf-8') as csv_file:\n",
    "        csv_writer = csv.writer(csv_file)\n",
    "\n",
    "        # If the file is newly created, write the header\n",
    "        if not file_exists:\n",
    "            csv_writer.writerow(['Question'])\n",
    "\n",
    "        # Write questions\n",
    "        csv_writer.writerows([[question] for question in questions])\n",
    "\n",
    "    print(f\"Questions have been written to {csv_file_path}\")"
   ]
  },
  {
   "cell_type": "code",
   "execution_count": 36,
   "metadata": {},
   "outputs": [
    {
     "data": {
      "text/plain": [
       "'Here are 30 business related questions that you can use for your research or study:\\n\\n- What are the main types of business models and how do they differ?\\n- How can a business conduct a SWOT analysis to identify its strengths, weaknesses, opportunities and threats?\\n- What are the benefits and challenges of social media marketing for businesses?\\n- How can a business use data analytics to improve its decision making and performance?\\n- What are the best practices for managing a diverse and inclusive workforce?\\n- How can a business protect its intellectual property rights and avoid infringement?\\n- What are the ethical and legal implications of corporate social responsibility for businesses?\\n- How can a business leverage artificial intelligence and machine learning to enhance its products and services?\\n- What are the key factors that influence consumer behavior and purchasing decisions?\\n- How can a business measure and improve its customer satisfaction and loyalty?\\n- What are the advantages and disadvantages of outsourcing and offshoring for businesses?\\n- How can a business develop a competitive advantage and sustain it in a dynamic market?\\n- What are the main sources of financing for businesses and how do they affect their capital structure and risk?\\n- How can a business use blockchain technology to increase its transparency and efficiency?\\n- What are the challenges and opportunities of doing business in emerging markets?\\n- How can a business implement lean management and agile methodologies to optimize its processes and operations?\\n- What are the main types of innovation and how can a business foster a culture of innovation?\\n- How can a business design and execute a successful strategy and achieve its goals and objectives?\\n- What are the main types of organizational structures and cultures and how do they affect the performance and behavior of employees?\\n- How can a business manage change and overcome resistance to change?\\n- What are the main types of leadership styles and how do they affect the motivation and productivity of employees?\\n- How can a business use gamification and other techniques to enhance its employee engagement and retention?\\n- What are the main types of conflicts and how can a business resolve them effectively?\\n- How can a business use emotional intelligence and other skills to improve its communication and collaboration?\\n- What are the main types of negotiations and how can a business negotiate successfully with different stakeholders?\\n- How can a business use project management and other tools to plan and execute its projects and deliverables?\\n- What are the main types of quality management and how can a business ensure and improve its quality standards and outcomes?\\n- How can a business use corporate governance and other mechanisms to ensure its accountability and compliance?\\n- How can a business use sustainability and other practices to reduce its environmental impact and enhance its social impact?\\n- How can a business evaluate its performance and identify its areas of improvement and growth?'"
      ]
     },
     "execution_count": 36,
     "metadata": {},
     "output_type": "execute_result"
    }
   ],
   "source": [
    "string"
   ]
  },
  {
   "cell_type": "code",
   "execution_count": 37,
   "metadata": {},
   "outputs": [
    {
     "name": "stdout",
     "output_type": "stream",
     "text": [
      "Questions have been written to business_questions.csv\n"
     ]
    }
   ],
   "source": [
    "import re\n",
    "import csv\n",
    "\n",
    "text = string\n",
    "\n",
    "# Use regular expression to extract questions\n",
    "questions = re.findall(r'- (.+?)\\?', text)\n",
    "\n",
    "# Write the extracted questions to a CSV file\n",
    "csv_file_path = 'business_questions.csv'\n",
    "with open(csv_file_path, 'w', newline='', encoding='utf-8') as csv_file:\n",
    "    csv_writer = csv.writer(csv_file)\n",
    "    \n",
    "    # Write questions\n",
    "    csv_writer.writerows([[question] for question in questions])\n",
    "\n",
    "print(f\"Questions have been written to {csv_file_path}\")\n"
   ]
  },
  {
   "cell_type": "code",
   "execution_count": 23,
   "metadata": {},
   "outputs": [],
   "source": [
    "text = \"\"\"\n",
    "What are the main goals and objectives of your business?\n",
    "What are the strengths, weaknesses, opportunities, and threats (SWOT) of your business?\n",
    "Who are your target customers and what are their needs, preferences, and pain points?\n",
    "How do you differentiate your products or services from your competitors?\n",
    "What are your unique selling propositions (USPs) and value propositions?\n",
    "How do you market and promote your products or services to your potential customers?\n",
    "What are the key performance indicators (KPIs) and metrics that you use to measure your business success?\n",
    "What are the main challenges and risks that your business faces or may face in the future?\n",
    "How do you manage your finances, cash flow, and budget?\n",
    "What are your short-term and long-term plans and strategies for your business growth and development?\n",
    "\"\"\"\n",
    "\n",
    "# Split the text into individual lines and extract questions\n",
    "questions = [line.strip() for line in text.strip().split('\\n')]\n",
    "\n"
   ]
  },
  {
   "cell_type": "code",
   "execution_count": 24,
   "metadata": {},
   "outputs": [
    {
     "name": "stdout",
     "output_type": "stream",
     "text": [
      "Questions have been saved to: business_questions.csv\n"
     ]
    }
   ],
   "source": [
    "# Store questions in a CSV file\n",
    "csv_file_path = \"business_questions.csv\"\n",
    "\n",
    "with open(csv_file_path, mode=\"w\", newline=\"\", encoding=\"utf-8\") as csvfile:\n",
    "    fieldnames = [\"Question\"]\n",
    "    writer = csv.DictWriter(csvfile, fieldnames=fieldnames)\n",
    "    \n",
    "    # Write header to the CSV file\n",
    "    writer.writeheader()\n",
    "\n",
    "    # Write questions to the CSV file\n",
    "    for question in questions:\n",
    "        writer.writerow({\"Question\": question})\n",
    "\n",
    "print(f\"Questions have been saved to: {csv_file_path}\")"
   ]
  }
 ],
 "metadata": {
  "kernelspec": {
   "display_name": "Python 3",
   "language": "python",
   "name": "python3"
  },
  "language_info": {
   "codemirror_mode": {
    "name": "ipython",
    "version": 3
   },
   "file_extension": ".py",
   "mimetype": "text/x-python",
   "name": "python",
   "nbconvert_exporter": "python",
   "pygments_lexer": "ipython3",
   "version": "3.11.3"
  },
  "orig_nbformat": 4
 },
 "nbformat": 4,
 "nbformat_minor": 2
}
