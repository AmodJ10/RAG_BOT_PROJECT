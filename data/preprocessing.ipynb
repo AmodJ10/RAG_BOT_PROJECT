{
 "cells": [
  {
   "cell_type": "code",
   "execution_count": 1,
   "metadata": {},
   "outputs": [],
   "source": [
    "import pandas as pd\n",
    "import re\n",
    "from nltk.corpus import stopwords\n",
    "from nltk.stem import WordNetLemmatizer\n",
    "from nltk.tokenize import word_tokenize\n",
    "import spacy"
   ]
  },
  {
   "cell_type": "code",
   "execution_count": 2,
   "metadata": {},
   "outputs": [
    {
     "data": {
      "text/html": [
       "<div>\n",
       "<style scoped>\n",
       "    .dataframe tbody tr th:only-of-type {\n",
       "        vertical-align: middle;\n",
       "    }\n",
       "\n",
       "    .dataframe tbody tr th {\n",
       "        vertical-align: top;\n",
       "    }\n",
       "\n",
       "    .dataframe thead th {\n",
       "        text-align: right;\n",
       "    }\n",
       "</style>\n",
       "<table border=\"1\" class=\"dataframe\">\n",
       "  <thead>\n",
       "    <tr style=\"text-align: right;\">\n",
       "      <th></th>\n",
       "      <th>Question</th>\n",
       "      <th>Answer</th>\n",
       "    </tr>\n",
       "  </thead>\n",
       "  <tbody>\n",
       "    <tr>\n",
       "      <th>0</th>\n",
       "      <td>What are the main goals and objectives of your...</td>\n",
       "      <td>The main goals and objectives of our business ...</td>\n",
       "    </tr>\n",
       "    <tr>\n",
       "      <th>1</th>\n",
       "      <td>What are the strengths, weaknesses, opportunit...</td>\n",
       "      <td>Strengths:\\n1. Established brand reputation.\\n...</td>\n",
       "    </tr>\n",
       "    <tr>\n",
       "      <th>2</th>\n",
       "      <td>Who are your target customers and what are the...</td>\n",
       "      <td>Our target customers encompass a diverse range...</td>\n",
       "    </tr>\n",
       "    <tr>\n",
       "      <th>3</th>\n",
       "      <td>How do you differentiate your products or serv...</td>\n",
       "      <td>We differentiate our products and services thr...</td>\n",
       "    </tr>\n",
       "    <tr>\n",
       "      <th>4</th>\n",
       "      <td>What is your unique value proposition or compe...</td>\n",
       "      <td>Our unique value proposition lies in our abili...</td>\n",
       "    </tr>\n",
       "    <tr>\n",
       "      <th>...</th>\n",
       "      <td>...</td>\n",
       "      <td>...</td>\n",
       "    </tr>\n",
       "    <tr>\n",
       "      <th>1121</th>\n",
       "      <td>What are the short-term and long-term plans an...</td>\n",
       "      <td>Short-term plans and strategies for business g...</td>\n",
       "    </tr>\n",
       "    <tr>\n",
       "      <th>1122</th>\n",
       "      <td>What is the difference between a sole propriet...</td>\n",
       "      <td>#### Difference between a Sole Proprietorship ...</td>\n",
       "    </tr>\n",
       "    <tr>\n",
       "      <th>1123</th>\n",
       "      <td>What are the four Ps of marketing</td>\n",
       "      <td>The four Ps of marketing are **Product, Price,...</td>\n",
       "    </tr>\n",
       "    <tr>\n",
       "      <th>1124</th>\n",
       "      <td>What is a SWOT analysis and how can it help a ...</td>\n",
       "      <td>#### What is a SWOT analysis and how can it he...</td>\n",
       "    </tr>\n",
       "    <tr>\n",
       "      <th>1125</th>\n",
       "      <td>What is the difference between revenue and profit</td>\n",
       "      <td>#### Difference between Revenue and Profit\\n\\n...</td>\n",
       "    </tr>\n",
       "  </tbody>\n",
       "</table>\n",
       "<p>1126 rows × 2 columns</p>\n",
       "</div>"
      ],
      "text/plain": [
       "                                               Question   \n",
       "0     What are the main goals and objectives of your...  \\\n",
       "1     What are the strengths, weaknesses, opportunit...   \n",
       "2     Who are your target customers and what are the...   \n",
       "3     How do you differentiate your products or serv...   \n",
       "4     What is your unique value proposition or compe...   \n",
       "...                                                 ...   \n",
       "1121  What are the short-term and long-term plans an...   \n",
       "1122  What is the difference between a sole propriet...   \n",
       "1123                  What are the four Ps of marketing   \n",
       "1124  What is a SWOT analysis and how can it help a ...   \n",
       "1125  What is the difference between revenue and profit   \n",
       "\n",
       "                                                 Answer  \n",
       "0     The main goals and objectives of our business ...  \n",
       "1     Strengths:\\n1. Established brand reputation.\\n...  \n",
       "2     Our target customers encompass a diverse range...  \n",
       "3     We differentiate our products and services thr...  \n",
       "4     Our unique value proposition lies in our abili...  \n",
       "...                                                 ...  \n",
       "1121  Short-term plans and strategies for business g...  \n",
       "1122  #### Difference between a Sole Proprietorship ...  \n",
       "1123  The four Ps of marketing are **Product, Price,...  \n",
       "1124  #### What is a SWOT analysis and how can it he...  \n",
       "1125  #### Difference between Revenue and Profit\\n\\n...  \n",
       "\n",
       "[1126 rows x 2 columns]"
      ]
     },
     "execution_count": 2,
     "metadata": {},
     "output_type": "execute_result"
    }
   ],
   "source": [
    "df = pd.read_csv(\"qa_dataset.csv\",encoding=\"latin-1\")\n",
    "df"
   ]
  },
  {
   "cell_type": "code",
   "execution_count": 3,
   "metadata": {},
   "outputs": [],
   "source": [
    "df.dropna(subset=['Question', 'Answer'], inplace=True)"
   ]
  },
  {
   "cell_type": "code",
   "execution_count": 4,
   "metadata": {},
   "outputs": [],
   "source": [
    "def clean_text(text):\n",
    "    # Remove unnecessary characters, symbols, and HTML tags\n",
    "    text = re.sub(r'<.*?>', '', text)\n",
    "    text = re.sub(r'[^a-zA-Z\\s]', '', text)\n",
    "    return text"
   ]
  },
  {
   "cell_type": "code",
   "execution_count": 5,
   "metadata": {},
   "outputs": [],
   "source": [
    "df['cleaned_question'] = df['Question'].apply(clean_text)\n",
    "df['cleaned_answer'] = df['Answer'].apply(clean_text)\n"
   ]
  },
  {
   "cell_type": "code",
   "execution_count": 6,
   "metadata": {},
   "outputs": [],
   "source": [
    "df['cleaned_question'] = df['cleaned_question'].str.lower()\n",
    "df['cleaned_answer'] = df['cleaned_answer'].str.lower()"
   ]
  },
  {
   "cell_type": "code",
   "execution_count": 7,
   "metadata": {},
   "outputs": [],
   "source": [
    "df['tokenized_question'] = df['cleaned_question'].apply(word_tokenize)\n",
    "df['tokenized_answer'] = df['cleaned_answer'].apply(word_tokenize)"
   ]
  },
  {
   "cell_type": "code",
   "execution_count": 8,
   "metadata": {},
   "outputs": [],
   "source": [
    "stop_words = set(stopwords.words('english'))\n",
    "\n",
    "df['filtered_question'] = df['tokenized_question'].apply(lambda tokens: [word for word in tokens if word not in stop_words])\n",
    "df['filtered_answer'] = df['tokenized_answer'].apply(lambda tokens: [word for word in tokens if word not in stop_words])"
   ]
  },
  {
   "cell_type": "code",
   "execution_count": 9,
   "metadata": {},
   "outputs": [],
   "source": [
    "lemmatizer = WordNetLemmatizer()\n",
    "\n",
    "df['lemmatized_question'] = df['filtered_question'].apply(lambda tokens: [lemmatizer.lemmatize(word) for word in tokens])\n",
    "df['lemmatized_answer'] = df['filtered_answer'].apply(lambda tokens: [lemmatizer.lemmatize(word) for word in tokens])"
   ]
  },
  {
   "cell_type": "code",
   "execution_count": 10,
   "metadata": {},
   "outputs": [
    {
     "name": "stdout",
     "output_type": "stream",
     "text": [
      "                                            Question   \n",
      "0  What are the main goals and objectives of your...  \\\n",
      "1  What are the strengths, weaknesses, opportunit...   \n",
      "2  Who are your target customers and what are the...   \n",
      "3  How do you differentiate your products or serv...   \n",
      "4  What is your unique value proposition or compe...   \n",
      "\n",
      "                                 lemmatized_question   \n",
      "0                  [main, goal, objective, business]  \\\n",
      "1  [strength, weakness, opportunity, threat, swot...   \n",
      "2  [target, customer, need, preference, pain, point]   \n",
      "3      [differentiate, product, service, competitor]   \n",
      "4  [unique, value, proposition, competitive, adva...   \n",
      "\n",
      "                                              Answer   \n",
      "0  The main goals and objectives of our business ...  \\\n",
      "1  Strengths:\\n1. Established brand reputation.\\n...   \n",
      "2  Our target customers encompass a diverse range...   \n",
      "3  We differentiate our products and services thr...   \n",
      "4  Our unique value proposition lies in our abili...   \n",
      "\n",
      "                                   lemmatized_answer  \n",
      "0  [main, goal, objective, business, achieve, sus...  \n",
      "1  [strength, established, brand, reputation, rob...  \n",
      "2  [target, customer, encompass, diverse, range, ...  \n",
      "3  [differentiate, product, service, strategic, c...  \n",
      "4  [unique, value, proposition, lie, ability, sea...  \n"
     ]
    }
   ],
   "source": [
    "print(df[['Question', 'lemmatized_question', 'Answer', 'lemmatized_answer']].head())\n"
   ]
  },
  {
   "cell_type": "code",
   "execution_count": 11,
   "metadata": {},
   "outputs": [],
   "source": [
    "df.to_csv(\"your_preprocessed_dataset\", index = False)"
   ]
  },
  {
   "cell_type": "code",
   "execution_count": null,
   "metadata": {},
   "outputs": [],
   "source": []
  }
 ],
 "metadata": {
  "kernelspec": {
   "display_name": "Python 3",
   "language": "python",
   "name": "python3"
  },
  "language_info": {
   "codemirror_mode": {
    "name": "ipython",
    "version": 3
   },
   "file_extension": ".py",
   "mimetype": "text/x-python",
   "name": "python",
   "nbconvert_exporter": "python",
   "pygments_lexer": "ipython3",
   "version": "3.11.3"
  },
  "orig_nbformat": 4
 },
 "nbformat": 4,
 "nbformat_minor": 2
}
