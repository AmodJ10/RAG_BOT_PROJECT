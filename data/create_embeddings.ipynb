{
 "cells": [
  {
   "cell_type": "code",
   "execution_count": 14,
   "metadata": {},
   "outputs": [],
   "source": [
    "import g4f\n",
    "from g4f.Provider import ChatgptAi\n",
    "import pandas as pd\n",
    "from gensim.models import Word2Vec\n",
    "from gensim.models import KeyedVectors"
   ]
  },
  {
   "cell_type": "code",
   "execution_count": 25,
   "metadata": {},
   "outputs": [],
   "source": [
    "# Load your preprocessed dataset (replace with your actual file path)\n",
    "df = pd.read_csv(\"your_preprocessed_dataset.csv\")\n",
    "\n",
    "# Create a list to store embeddings\n",
    "embeddings = []\n",
    "\n",
    "word2vec_model = KeyedVectors.load_word2vec_format(\"C:\\\\Users\\\\amodj\\\\Downloads\\\\Google_New_Word2Vec\\\\GoogleNews-vectors-negative300.bin\", binary=True)\n",
    "\n",
    "\n",
    "\n",
    "# Loop through each question-answer pair in the dataset\n",
    "for index, row in df.iterrows():\n",
    "    question = row['lemmatized_question']  # Replace with the actual column name\n",
    "    answer = row['lemmatized_answer']  # Replace with the actual column name\n",
    "\n",
    "    question_embedding = [word2vec_model[word] for word in question if word in word2vec_model]\n",
    "    answer_embedding = [word2vec_model[word] for word in answer if word in word2vec_model]\n",
    "    \n",
    "    # Flatten the list of embeddings for each word\n",
    "    question_embedding = [val for sublist in question_embedding for val in sublist]\n",
    "    answer_embedding = [val for sublist in answer_embedding for val in sublist]\n",
    "\n",
    "    # Combine the embeddings into a single vector for the entire question-answer pair\n",
    "    combined_embedding = question_embedding + answer_embedding\n",
    "\n",
    "    embeddings.append(combined_embedding)\n",
    "\n",
    "# Add the embeddings to the DataFrame\n",
    "df['embeddings'] = embeddings\n",
    "\n",
    "# Save the DataFrame with embeddings to a new CSV file\n",
    "df.to_csv(\"dataset_with_embeddings.csv\", index=False)\n"
   ]
  },
  {
   "cell_type": "code",
   "execution_count": 23,
   "metadata": {},
   "outputs": [
    {
     "name": "stdout",
     "output_type": "stream",
     "text": [
      "Missing words in question: ['[', \"'\", \"'\", ',', ' ', \"'\", \"'\", ',', ' ', \"'\", \"'\", ']']\n",
      "Missing words in answer: ['[', \"'\", \"'\", ',', ' ', \"'\", \"'\", ',', ' ', \"'\", \"'\", ',', ' ', \"'\", \"'\", ',', ' ', \"'\", \"'\", ',', ' ', \"'\", 'a', \"'\", ',', ' ', \"'\", 'a', \"'\", ',', ' ', \"'\", \"'\", ',', ' ', \"'\", 'a', \"'\", ',', ' ', \"'\", 'a', \"'\", ',', ' ', \"'\", \"'\", ',', ' ', \"'\", \"'\", ',', ' ', \"'\", 'a', \"'\", ',', ' ', \"'\", \"'\", ',', ' ', \"'\", \"'\", ',', ' ', \"'\", \"'\", ',', ' ', \"'\", \"'\", ',', ' ', \"'\", \"'\", ',', ' ', \"'\", 'a', \"'\", ',', ' ', \"'\", \"'\", ',', ' ', \"'\", 'a', \"'\", ',', ' ', \"'\", \"'\", ',', ' ', \"'\", \"'\", ',', ' ', \"'\", 'a', \"'\", ',', ' ', \"'\", \"'\", ',', ' ', \"'\", 'a', \"'\", ',', ' ', \"'\", 'a', \"'\", ',', ' ', \"'\", \"'\", ',', ' ', \"'\", 'a', \"'\", ',', ' ', \"'\", \"'\", ',', ' ', \"'\", 'a', \"'\", ',', ' ', \"'\", 'a', \"'\", ',', ' ', \"'\", \"'\", ',', ' ', \"'\", 'a', \"'\", ',', ' ', \"'\", \"'\", ',', ' ', \"'\", \"'\", ',', ' ', \"'\", \"'\", ',', ' ', \"'\", \"'\", ',', ' ', \"'\", \"'\", ',', ' ', \"'\", \"'\", ',', ' ', \"'\", 'a', \"'\", ',', ' ', \"'\", \"'\", ',', ' ', \"'\", 'a', \"'\", ',', ' ', \"'\", 'a', \"'\", ',', ' ', \"'\", 'a', 'a', \"'\", ',', ' ', \"'\", 'a', \"'\", ',', ' ', \"'\", \"'\", ',', ' ', \"'\", 'a', \"'\", ',', ' ', \"'\", 'a', \"'\", ',', ' ', \"'\", \"'\", ',', ' ', \"'\", \"'\", ',', ' ', \"'\", 'a', \"'\", ',', ' ', \"'\", \"'\", ',', ' ', \"'\", 'a', \"'\", ',', ' ', \"'\", \"'\", ',', ' ', \"'\", 'a', \"'\", ',', ' ', \"'\", 'a', \"'\", ',', ' ', \"'\", \"'\", ',', ' ', \"'\", 'a', \"'\", ',', ' ', \"'\", \"'\", ',', ' ', \"'\", \"'\", ',', ' ', \"'\", \"'\", ',', ' ', \"'\", \"'\", ',', ' ', \"'\", \"'\", ',', ' ', \"'\", 'a', \"'\", ']']\n",
      "Number of missing words in question: 12\n",
      "Number of missing words in answer: 288\n"
     ]
    }
   ],
   "source": [
    "# Load the Word2Vec model using KeyedVectors\n",
    "word2vec_model = KeyedVectors.load_word2vec_format(\"C:\\\\Users\\\\amodj\\\\Downloads\\\\Google_New_Word2Vec\\\\GoogleNews-vectors-negative300.bin\", binary=True)\n",
    "\n",
    "# Get the vocabulary from the Word2Vec model\n",
    "model_vocab = set(word2vec_model.index_to_key)\n",
    "\n",
    "# Check which words from your dataset are not in the model's vocabulary\n",
    "missing_words_question = [word for word in question if word not in model_vocab]\n",
    "missing_words_answer = [word for word in answer if word not in model_vocab]\n",
    "\n",
    "# Print or inspect the missing words\n",
    "print(\"Missing words in question:\", missing_words_question)\n",
    "print(\"Missing words in answer:\", missing_words_answer)\n",
    "\n",
    "# Count the number of missing words\n",
    "num_missing_words_question = len(missing_words_question)\n",
    "num_missing_words_answer = len(missing_words_answer)\n",
    "\n",
    "print(\"Number of missing words in question:\", num_missing_words_question)\n",
    "print(\"Number of missing words in answer:\", num_missing_words_answer)\n"
   ]
  },
  {
   "cell_type": "code",
   "execution_count": 12,
   "metadata": {},
   "outputs": [
    {
     "name": "stdout",
     "output_type": "stream",
     "text": [
      "4.3.2\n"
     ]
    }
   ],
   "source": [
    "import gensim\n",
    "print(gensim.__version__)"
   ]
  }
 ],
 "metadata": {
  "kernelspec": {
   "display_name": "Python 3",
   "language": "python",
   "name": "python3"
  },
  "language_info": {
   "codemirror_mode": {
    "name": "ipython",
    "version": 3
   },
   "file_extension": ".py",
   "mimetype": "text/x-python",
   "name": "python",
   "nbconvert_exporter": "python",
   "pygments_lexer": "ipython3",
   "version": "3.11.3"
  },
  "orig_nbformat": 4
 },
 "nbformat": 4,
 "nbformat_minor": 2
}
